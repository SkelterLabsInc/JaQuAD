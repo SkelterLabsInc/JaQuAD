{
  "cells": [
    {
      "cell_type": "markdown",
      "metadata": {
        "id": "CEvslqjDCiUM"
      },
      "source": [
        "## Installation"
      ]
    },
    {
      "cell_type": "code",
      "execution_count": null,
      "metadata": {
        "id": "awj7ZLT7rOGQ"
      },
      "outputs": [],
      "source": [
        "# We assume that you are working on CoLab. This code works on Python 3.7.\n",
        "# You may change the version of PyTorch/XLA and other packages depending on your\n",
        "# python version.\n",
        "!pip install -q torch==1.9.0 torchtext torchvision pytorch_lightning\n",
        "!pip install -q cloud-tpu-client==0.10 https://storage.googleapis.com/tpu-pytorch/wheels/torch_xla-1.9-cp37-cp37m-linux_x86_64.whl\n",
        "\n",
        "!pip install -q transformers==4.15 transformers[\"ja\"] datasets==1.18\n",
        "\n",
        "# You can ignore pip's dependency error on torchaudio and earthengine-api. They\n",
        "# won't be used."
      ]
    },
    {
      "cell_type": "code",
      "execution_count": null,
      "metadata": {
        "id": "533xQ1HdZBhv"
      },
      "outputs": [],
      "source": [
        "import os\n",
        "\n",
        "if not os.environ.get('COLAB_TPU_ADDR'):\n",
        "    print('Make sure to select TPU from Edit > Notebook settings > Hardware accelerator')"
      ]
    },
    {
      "cell_type": "markdown",
      "metadata": {
        "id": "65cwlByIqbVC"
      },
      "source": [
        "## Define model"
      ]
    },
    {
      "cell_type": "code",
      "execution_count": 2,
      "metadata": {
        "id": "GVNY-Mt3rSYn"
      },
      "outputs": [],
      "source": [
        "import os\n",
        "import string\n",
        "import unicodedata\n",
        "from typing import Any, Dict, Iterator, List, Tuple, Union\n",
        "\n",
        "import datasets\n",
        "import numpy as np\n",
        "from pytorch_lightning import LightningModule, Trainer, seed_everything\n",
        "import torch\n",
        "from torch.utils.data import DataLoader\n",
        "from torch.optim import lr_scheduler\n",
        "from transformers import AutoModelForQuestionAnswering, AutoTokenizer, AdamW"
      ]
    },
    {
      "cell_type": "code",
      "execution_count": null,
      "metadata": {
        "colab": {
          "base_uri": "https://localhost:8080/"
        },
        "id": "cmT8NWJbrVFa",
        "outputId": "989e2fd5-8b6c-4cb8-cb76-d602e1a156c6"
      },
      "outputs": [
        {
          "data": {
            "text/plain": [
              "{'batch_size': 32,\n",
              " 'cpu_workers': 2,\n",
              " 'dataset': 'SkelterLabsInc/JaQuAD',\n",
              " 'huggingface_auth_token': None,\n",
              " 'doc_stride': 128,\n",
              " 'epochs': 4,\n",
              " 'fp16': False,\n",
              " 'lr': 2e-05,\n",
              " 'lr_scheduler': 'warmup_lin',\n",
              " 'max_length': 384,\n",
              " 'norm_form': 'NFKC',\n",
              " 'optimizer': 'AdamW',\n",
              " 'pretrained_model': 'cl-tohoku/bert-base-japanese-whole-word-masking',\n",
              " 'pretrained_tokenizer': '',\n",
              " 'random_seed': 42,\n",
              " 'test_mode': False,\n",
              " 'tpu_cores': 8,\n",
              " 'warmup_ratio': 0.1,\n",
              " 'weight_decay': 0.01}"
            ]
          },
          "execution_count": 6,
          "metadata": {},
          "output_type": "execute_result"
        }
      ],
      "source": [
        "args = {\n",
        "    'random_seed': 42,  # Random Seed\n",
        "    # Transformers PLM name.\n",
        "    'pretrained_model': 'cl-tohoku/bert-base-japanese-whole-word-masking',\n",
        "    # Optional, Transformers Tokenizer name. Overrides `pretrained_model`\n",
        "    'pretrained_tokenizer': '',\n",
        "    'norm_form': 'NFKC',\n",
        "    'batch_size': 32,  # <=32 for TPUv2-8\n",
        "    'lr': 2e-5,  # Learning Rate\n",
        "    'max_length': 384,  # Max Length input size\n",
        "    'doc_stride': 128,  # The interval of the context when splitting is needed\n",
        "    'epochs': 4,  # Max Epochs\n",
        "    'dataset': 'SkelterLabsInc/JaQuAD',\n",
        "    'huggingface_auth_token': None,\n",
        "    'test_mode': False,  # Test Mode enables `fast_dev_run`\n",
        "    'optimizer': 'AdamW',\n",
        "    'weight_decay': 0.01,  # Weight decaying parameter for AdamW\n",
        "    'lr_scheduler': 'warmup_lin',\n",
        "    'warmup_ratio': 0.1,\n",
        "    'fp16': False,  # Enable train on FP16 (if GPU)\n",
        "    'tpu_cores': 8,  # Enable TPU with 1 core or 8 cores\n",
        "    'cpu_workers': os.cpu_count(),\n",
        "}\n",
        "\n",
        "args"
      ]
    },
    {
      "cell_type": "code",
      "execution_count": null,
      "metadata": {
        "id": "YYsBE7rf0Fm6"
      },
      "outputs": [],
      "source": [
        "class WarmupLinearLR(lr_scheduler.LambdaLR):\n",
        "    '''The learning rate is linearly increased for the first `warmup_steps`\n",
        "    and linearly decreased to zero afterward.\n",
        "    '''\n",
        "\n",
        "    def __init__(self, optimizer, warmup_steps, max_steps, last_epoch=-1):\n",
        "\n",
        "        def lr_lambda(step):\n",
        "            if step < warmup_steps:\n",
        "                return float(step) / float(max(1.0, warmup_steps))\n",
        "            ratio = 1 - float(step - warmup_steps) / float(max_steps -\n",
        "                                                           warmup_steps)\n",
        "            return max(0.0, min(1.0, ratio))\n",
        "\n",
        "        super().__init__(optimizer, lr_lambda, last_epoch=last_epoch)"
      ]
    },
    {
      "cell_type": "code",
      "execution_count": null,
      "metadata": {
        "id": "Ke6TdX1EX26I"
      },
      "outputs": [],
      "source": [
        "def make_spans(\n",
        "    inputs: Dict[str, Union[int, List[int]]],\n",
        "    question_len: int,\n",
        "    max_seq_len: int,\n",
        "    stride: int,\n",
        "    answer_start_position: int = -1,\n",
        "    answer_end_position: int = -1\n",
        ") -> Iterator[Tuple[Dict[str, List[int]], Tuple[int, int]]]:\n",
        "    input_len = len(inputs['input_ids'])\n",
        "    context_len = input_len - question_len\n",
        "\n",
        "    def make_value(input_list, i, padding=0):\n",
        "        context_end = min(max_seq_len - question_len, context_len - i)\n",
        "        pad_len = max_seq_len - question_len - context_end\n",
        "        val = input_list[:question_len]\n",
        "        val += input_list[question_len + i:question_len + i + context_end]\n",
        "        val[-1] = input_list[-1]\n",
        "        val += [padding] * pad_len\n",
        "        return val\n",
        "\n",
        "    for i in range(0, input_len - max_seq_len + stride, stride):\n",
        "        span = {key: make_value(val, i) for key, val in inputs.items()}\n",
        "        answer_start = answer_start_position - i\n",
        "        answer_end = answer_end_position - i\n",
        "        if answer_start < question_len or answer_end >= max_seq_len - 1:\n",
        "            answer_start = answer_end = 0\n",
        "        yield span, (answer_start, answer_end)"
      ]
    },
    {
      "cell_type": "code",
      "execution_count": 3,
      "metadata": {},
      "outputs": [],
      "source": [
        "def get_offsets(input_ids: List[int],\n",
        "                context: str,\n",
        "                tokenizer: AutoTokenizer,\n",
        "                norm_form='NFKC') -> List[Tuple[int, int]]:\n",
        "    '''The character-level start/end offsets of a token within a context.\n",
        "    Algorithm:\n",
        "    1. Make offsets of normalized context within the original context.\n",
        "    2. Make offsets of tokens (input_ids) within the normalized context.\n",
        "\n",
        "    Arguments:\n",
        "    input_ids -- Token ids of tokenized context (by tokenizer).\n",
        "    context -- String of context\n",
        "    tokenizer\n",
        "    norm_form\n",
        "\n",
        "    Return:\n",
        "        List[Tuple[int, int]]: Offsets of tokens within the input context.\n",
        "        For each token, the offsets are presented as a tuple of (start\n",
        "        position index, end position index). Both indices are inclusive.\n",
        "    '''\n",
        "    cxt_start = input_ids.index(tokenizer.sep_token_id) + 1\n",
        "    cxt_end = cxt_start + input_ids[cxt_start:].index(tokenizer.sep_token_id)\n",
        "    tokens = tokenizer.convert_ids_to_tokens(input_ids[cxt_start:cxt_end])\n",
        "    tokens = [tok[2:] if tok.startswith('##') else tok for tok in tokens]\n",
        "    whitespace = string.whitespace + '\\u3000'\n",
        "\n",
        "    # 1. Make offsets of normalized context within the original context.\n",
        "    offsets_norm_context = []\n",
        "    norm_context = ''\n",
        "    for idx, char in enumerate(context):\n",
        "        norm_char = unicodedata.normalize(norm_form, char)\n",
        "        norm_context += norm_char\n",
        "        offsets_norm_context.extend([idx] * len(norm_char))\n",
        "    norm_context_org = unicodedata.normalize(norm_form, context)\n",
        "    assert norm_context == norm_context_org, \\\n",
        "        'Normalized contexts are not the same: ' \\\n",
        "        + f'{norm_context} != {norm_context_org}'\n",
        "    assert len(norm_context) == len(offsets_norm_context), \\\n",
        "        'Normalized contexts have different numbers of tokens: ' \\\n",
        "        + f'{len(norm_context)} != {len(offsets_norm_context)}'\n",
        "\n",
        "    # 2. Make offsets of tokens (input_ids) within the normalized context.\n",
        "    offsets_token = []\n",
        "    unk_pointer = None\n",
        "    cid = 0\n",
        "    tid = 0\n",
        "    while tid < len(tokens):\n",
        "        cur_token = tokens[tid]\n",
        "        if cur_token == tokenizer.unk_token:\n",
        "            unk_pointer = tid\n",
        "            offsets_token.append([cid, cid])\n",
        "            cid += 1\n",
        "        elif norm_context[cid:cid + len(cur_token)] != cur_token:\n",
        "            # Wrong offsets of the previous UNK token\n",
        "            assert unk_pointer is not None, \\\n",
        "                'Normalized context and tokens are not matched'\n",
        "            prev_unk_expected = offsets_token[unk_pointer]\n",
        "            prev_unk_expected[1] += norm_context[prev_unk_expected[1] + 2:]\\\n",
        "                .index(tokens[unk_pointer + 1]) + 1\n",
        "            tid = unk_pointer\n",
        "            offsets_token = offsets_token[:tid] + [prev_unk_expected]\n",
        "            cid = prev_unk_expected[1] + 1\n",
        "        else:\n",
        "            start_pos = norm_context[cid:].index(cur_token)\n",
        "            if start_pos > 0 and tokens[tid - 1] == tokenizer.unk_token:\n",
        "                offsets_token[-1][1] += start_pos\n",
        "                cid += start_pos\n",
        "                start_pos = 0\n",
        "            assert start_pos == 0, f'{start_pos} != 0 (cur: {cur_token}'\n",
        "            offsets_token.append([cid, cid + len(cur_token) - 1])\n",
        "            cid += len(cur_token)\n",
        "            while cid < len(norm_context) and norm_context[cid] in whitespace:\n",
        "                offsets_token[-1][1] += 1\n",
        "                cid += 1\n",
        "        tid += 1\n",
        "    if tokens[-1] == tokenizer.unk_token:\n",
        "        offsets_token[-1][1] = len(norm_context) - 1\n",
        "    else:\n",
        "        assert cid == len(norm_context) == offsets_token[-1][1] + 1, \\\n",
        "            'Offsets do not include all characters'\n",
        "    assert len(offsets_token) == len(tokens), \\\n",
        "        'The numbers of tokens and offsets are different'\n",
        "\n",
        "    offsets_mapping = [(offsets_norm_context[start], offsets_norm_context[end])\n",
        "                       for start, end in offsets_token]\n",
        "    return [(-1, -1)] * cxt_start + offsets_mapping"
      ]
    },
    {
      "cell_type": "code",
      "execution_count": null,
      "metadata": {
        "id": "erLcpPrsYJTN"
      },
      "outputs": [],
      "source": [
        "class QAModel(LightningModule):\n",
        "    def __init__(self, **kwargs):\n",
        "        super().__init__()\n",
        "        self.save_hyperparameters()  # kwargs are saved in self.hparams\n",
        "        self.automatic_optimization = False\n",
        "\n",
        "        self.question_answerer = AutoModelForQuestionAnswering.from_pretrained(\n",
        "            self.hparams.pretrained_model,\n",
        "            use_auth_token=self.hparams.huggingface_auth_token)\n",
        "        self.tokenizer = AutoTokenizer.from_pretrained(\n",
        "            self.hparams.pretrained_tokenizer\n",
        "            if self.hparams.pretrained_tokenizer else\n",
        "            self.hparams.pretrained_model,\n",
        "            use_auth_token=self.hparams.huggingface_auth_token)\n",
        "\n",
        "    def forward(self, **kwargs):\n",
        "        return self.question_answerer(**kwargs)\n",
        "\n",
        "    def step(self, batch, batch_idx):\n",
        "        outputs = self(**batch)\n",
        "\n",
        "        loss = outputs.loss\n",
        "        start_preds = outputs.start_logits.argmax(dim=-1).cpu().detach()\n",
        "        end_preds = outputs.end_logits.argmax(dim=-1).cpu().detach()\n",
        "        start_positions = batch['start_positions'].cpu().detach()\n",
        "        end_positions = batch['end_positions'].cpu().detach()\n",
        "\n",
        "        return {\n",
        "            'loss': loss,\n",
        "            'start_preds': start_preds,\n",
        "            'end_preds': end_preds,\n",
        "            'start_positions': start_positions,\n",
        "            'end_positions': end_positions,\n",
        "        }\n",
        "\n",
        "    def training_step(self, batch, batch_idx):\n",
        "        opt = self.optimizers()\n",
        "        opt.zero_grad()\n",
        "        outputs = self.step(batch, batch_idx)\n",
        "        self.manual_backward(outputs['loss'])\n",
        "        opt.step()\n",
        "\n",
        "        # single scheduler\n",
        "        sch = self.lr_schedulers()\n",
        "        sch.step()\n",
        "        return outputs\n",
        "\n",
        "    def validation_step(self, batch, batch_idx):\n",
        "        return self.step(batch, batch_idx)\n",
        "\n",
        "    @staticmethod\n",
        "    def calculate_f1_score(start_positions, end_positions, start_preds,\n",
        "                           end_preds):\n",
        "        start_overlap = np.maximum(start_positions, start_preds)\n",
        "        start_overlap = np.maximum(start_positions, start_preds)\n",
        "        end_overlap = np.minimum(end_positions, end_preds)\n",
        "        overlap = np.maximum(end_overlap - start_overlap + 1, 0)\n",
        "\n",
        "        pred_token_count = np.maximum(end_preds - start_preds + 1, 0)\n",
        "        ground_token_count = np.maximum(end_positions - start_positions + 1, 0)\n",
        "\n",
        "        precision = torch.nan_to_num(overlap / pred_token_count, nan=0.)\n",
        "        recall = torch.nan_to_num(overlap / ground_token_count, nan=0.)\n",
        "        f1 = torch.nan_to_num(\n",
        "            2 * precision * recall / (precision + recall), nan=0.)\n",
        "        return {\n",
        "            'precision': precision,\n",
        "            'recall': recall,\n",
        "            'f1': f1,\n",
        "        }\n",
        "\n",
        "    @staticmethod\n",
        "    def calculate_exact_match(start_positions, end_positions, start_preds,\n",
        "                              end_preds):\n",
        "        equal_start = (start_preds == start_positions)\n",
        "        equal_end = (end_preds == end_positions)\n",
        "        return (equal_start * equal_end).type(torch.float)\n",
        "\n",
        "    def epoch_end(self, outputs, state='train'):\n",
        "        loss = torch.tensor(0, dtype=torch.float)\n",
        "        precision = torch.tensor(0, dtype=torch.float)\n",
        "        recall = torch.tensor(0, dtype=torch.float)\n",
        "        f1 = torch.tensor(0, dtype=torch.float)\n",
        "        em = torch.tensor(0, dtype=torch.float)\n",
        "\n",
        "        for i in outputs:\n",
        "            loss += i['loss'].cpu().detach()\n",
        "            f1_metrics = self.calculate_f1_score(i['start_positions'],\n",
        "                                                 i['end_positions'],\n",
        "                                                 i['start_preds'],\n",
        "                                                 i['end_preds'])\n",
        "            precision += f1_metrics['precision'].mean()\n",
        "            recall += f1_metrics['recall'].mean()\n",
        "            f1 += f1_metrics['f1'].mean()\n",
        "            em += self.calculate_exact_match(i['start_positions'],\n",
        "                                             i['end_positions'],\n",
        "                                             i['start_preds'],\n",
        "                                             i['end_preds']).mean()\n",
        "        loss = loss / len(outputs)\n",
        "        precision = precision / len(outputs)\n",
        "        recall = recall / len(outputs)\n",
        "        f1 = f1 / len(outputs)\n",
        "        em = em / len(outputs)\n",
        "        metrics = {\n",
        "            state + '_loss': float(loss),\n",
        "            state + '_precision': precision,\n",
        "            state + '_recall': recall,\n",
        "            state + '_f1': f1,\n",
        "            state + '_em': em,\n",
        "        }\n",
        "\n",
        "        self.log_dict(metrics, on_epoch=True)\n",
        "\n",
        "        return metrics\n",
        "\n",
        "    def training_epoch_end(self, outputs):\n",
        "        self.epoch_end(outputs, state='train')\n",
        "\n",
        "    def validation_epoch_end(self, outputs):\n",
        "        self.epoch_end(outputs, state='val')\n",
        "\n",
        "    def configure_optimizers(self):\n",
        "        if self.hparams.optimizer == 'AdamW':\n",
        "            optimizer = AdamW(\n",
        "                self.parameters(),\n",
        "                lr=self.hparams.lr,\n",
        "                weight_decay=self.hparams.weight_decay)\n",
        "        else:\n",
        "            raise NotImplementedError('Only AdamW is Supported!')\n",
        "\n",
        "        if self.hparams.lr_scheduler == 'cos':\n",
        "            scheduler = lr_scheduler.CosineAnnealingWarmRestarts(\n",
        "                optimizer, T_0=1, T_mult=2)\n",
        "        elif self.hparams.lr_scheduler == 'exp':\n",
        "            scheduler = lr_scheduler.ExponentialLR(optimizer, gamma=0.5)\n",
        "        elif self.hparams.lr_scheduler == 'warmup_lin':\n",
        "            steps_per_epoch = len(self.train_dataloader())\n",
        "            if os.environ.get('COLAB_TPU_ADDR'):\n",
        "                steps_per_epoch = steps_per_epoch // self.hparams.tpu_cores\n",
        "            total_steps = steps_per_epoch * self.hparams.epochs\n",
        "            warmup_steps = int(total_steps * self.hparams.warmup_ratio)\n",
        "            scheduler = WarmupLinearLR(\n",
        "                optimizer, warmup_steps=warmup_steps, max_steps=total_steps)\n",
        "        else:\n",
        "            raise NotImplementedError(\n",
        "                'Only cos, exp, and warmup_lin lr scheduler is Supported!')\n",
        "\n",
        "        return [optimizer], [scheduler]\n",
        "\n",
        "    def preprocess_function(self, examples):\n",
        "        tokenized_examples = self.tokenizer(\n",
        "            examples['question'],\n",
        "            examples['context'],\n",
        "        )\n",
        "\n",
        "        inputs = {\n",
        "            'input_ids': [],\n",
        "            'attention_mask': [],\n",
        "            'token_type_ids': [],\n",
        "            'start_positions': [],\n",
        "            'end_positions': [],\n",
        "        }\n",
        "        for tokens, att_mask, type_ids, context, answer, start_char \\\n",
        "                in zip(tokenized_examples['input_ids'],\n",
        "                       tokenized_examples['attention_mask'],\n",
        "                       tokenized_examples['token_type_ids'],\n",
        "                       examples['context'],\n",
        "                       examples['answer'],\n",
        "                       examples['answer_start']):\n",
        "            answer = answer[0]\n",
        "            start_char = start_char[0]\n",
        "            offsets = get_offsets(tokens, context, self.tokenizer,\n",
        "                                  self.hparams.norm_form)\n",
        "\n",
        "            ctx_start = tokens.index(self.tokenizer.sep_token_id) + 1\n",
        "            answer_start_index = ctx_start\n",
        "            answer_end_index = len(offsets) - 1\n",
        "            while offsets[answer_start_index][0] < start_char:\n",
        "                answer_start_index += 1\n",
        "            while offsets[answer_end_index][1] > start_char + len(answer):\n",
        "                answer_end_index -= 1\n",
        "\n",
        "            span_inputs = {\n",
        "                'input_ids': tokens,\n",
        "                'attention_mask': att_mask,\n",
        "                'token_type_ids': type_ids,\n",
        "            }\n",
        "            for span, answer_idx in make_spans(\n",
        "                    span_inputs,\n",
        "                    question_len=ctx_start,\n",
        "                    max_seq_len=self.hparams.max_length,\n",
        "                    stride=self.hparams.doc_stride,\n",
        "                    answer_start_position=answer_start_index,\n",
        "                    answer_end_position=answer_end_index):\n",
        "                inputs['input_ids'].append(span['input_ids'])\n",
        "                inputs['attention_mask'].append(span['attention_mask'])\n",
        "                inputs['token_type_ids'].append(span['token_type_ids'])\n",
        "                inputs['start_positions'].append(answer_idx[0])\n",
        "                inputs['end_positions'].append(answer_idx[1])\n",
        "        return inputs\n",
        "\n",
        "    def prepare_data(self):\n",
        "        datasetdict = datasets.load_dataset(\n",
        "            self.hparams.dataset,\n",
        "            use_auth_token=self.hparams.huggingface_auth_token)\n",
        "        datasetdict = datasetdict.flatten()\\\n",
        "            .rename_column('answers.text', 'answer')\\\n",
        "            .rename_column('answers.answer_start', 'answer_start')\\\n",
        "            .rename_column('answers.answer_type', 'answer_type')\n",
        "\n",
        "        self.tokenized_dataset = datasetdict.map(\n",
        "            self.preprocess_function,\n",
        "            batched=True,\n",
        "            remove_columns=datasetdict['train'].column_names)\n",
        "\n",
        "    def dataloader(self, dataset, shuffle=False):\n",
        "        dataset.set_format(type='torch')\n",
        "\n",
        "        return DataLoader(\n",
        "            dataset,\n",
        "            batch_size=self.hparams.batch_size,\n",
        "            shuffle=shuffle,\n",
        "            num_workers=self.hparams.cpu_workers,\n",
        "        )\n",
        "\n",
        "    def train_dataloader(self):\n",
        "        return self.dataloader(self.tokenized_dataset['train'], shuffle=True)\n",
        "\n",
        "    def val_dataloader(self):\n",
        "        return self.dataloader(\n",
        "            self.tokenized_dataset['validation'], shuffle=False)\n"
      ]
    },
    {
      "cell_type": "markdown",
      "metadata": {
        "id": "nN41xPPunWQJ"
      },
      "source": [
        "## Start training"
      ]
    },
    {
      "cell_type": "code",
      "execution_count": null,
      "metadata": {
        "id": "ZzpIpf64rZsA"
      },
      "outputs": [],
      "source": [
        "from pytorch_lightning import callbacks\n",
        "from pytorch_lightning import loggers\n",
        "\n",
        "checkpoint_callback = callbacks.ModelCheckpoint(\n",
        "    filename='val_loss{val_loss:.4f}-val_f1{val_f1:.4f}-epoch{epoch}',\n",
        "    monitor='val_loss',\n",
        "    mode='min',\n",
        "    save_top_k=5,\n",
        "    auto_insert_metric_name=False,\n",
        ")\n",
        "lr_callback = callbacks.LearningRateMonitor(logging_interval='step')"
      ]
    },
    {
      "cell_type": "code",
      "execution_count": null,
      "metadata": {
        "colab": {
          "base_uri": "https://localhost:8080/"
        },
        "id": "_aPXGrWBnWQL",
        "outputId": "dc9a0eee-2b45-46c9-e980-2c2d8ab3859e"
      },
      "outputs": [],
      "source": [
        "print('Using PyTorch Ver', torch.__version__)\n",
        "print('Fix Seed:', args['random_seed'])\n",
        "seed_everything(args['random_seed'])\n",
        "\n",
        "model = QAModel(**args)\n",
        "\n",
        "trainer = Trainer(\n",
        "    callbacks=[lr_callback,\n",
        "               checkpoint_callback],\n",
        "    log_every_n_steps=16,  # Logging frequency of **learning rate**\n",
        "    max_epochs=args['epochs'],\n",
        "    fast_dev_run=args['test_mode'],\n",
        "    num_sanity_val_steps=None if args['test_mode'] else 0,\n",
        "    # For GPU Setup\n",
        "    # deterministic=torch.cuda.is_available(),\n",
        "    # gpus=[0] if torch.cuda.is_available() else None,  # Use one GPU (idx 0)\n",
        "    # precision=16 if args['fp16'] and torch.cuda.is_available() else 32,\n",
        "    # For TPU Setup\n",
        "    tpu_cores=args['tpu_cores'] if args['tpu_cores'] else None,\n",
        ")"
      ]
    },
    {
      "cell_type": "code",
      "execution_count": null,
      "metadata": {
        "id": "Es7nKQ3w26vq"
      },
      "outputs": [],
      "source": [
        "print(':: Start Training ::')\n",
        "trainer.fit(model)"
      ]
    },
    {
      "cell_type": "code",
      "execution_count": null,
      "metadata": {
        "id": "0XbLPtuPY-hJ"
      },
      "outputs": [],
      "source": [
        "%reload_ext tensorboard\n",
        "%tensorboard --logdir lightning_logs"
      ]
    },
    {
      "cell_type": "markdown",
      "metadata": {
        "id": "gqAgK6JVnWQM"
      },
      "source": [
        "## Inference"
      ]
    },
    {
      "cell_type": "code",
      "execution_count": null,
      "metadata": {
        "id": "UTNeTGApNlWf"
      },
      "outputs": [],
      "source": [
        "# Load fine-tuned model from huggingface (fine-tuned by Skelter Labs)\n",
        "# If you are trying to use your model, skip this cell.\n",
        "!apt-get install git-lfs\n",
        "\n",
        "args['pretrained_model'] = 'SkelterLabsInc/bert-base-japanese-jaquad'\n",
        "model = QAModel(**args)"
      ]
    },
    {
      "cell_type": "code",
      "execution_count": null,
      "metadata": {
        "id": "GTpDsD8-bapF"
      },
      "outputs": [],
      "source": [
        "def get_answers(model: AutoModelForQuestionAnswering,\n",
        "                context: str,\n",
        "                question: str,\n",
        "                n_best_size: int = 5,\n",
        "                max_seq_len: int = 384,\n",
        "                doc_stride: int = 128) -> List[Dict[str, Any]]:\n",
        "    valid_answers = []\n",
        "    inputs = model.tokenizer(question, context)\n",
        "    offsets = get_offsets(inputs['input_ids'], context, model.tokenizer,\n",
        "                          model.hparams.norm_form)\n",
        "    question_len = inputs['input_ids'].index(model.tokenizer.sep_token_id) + 1\n",
        "    i = 0\n",
        "    for span, _ in make_spans(\n",
        "            inputs,\n",
        "            question_len=question_len,\n",
        "            max_seq_len=max_seq_len,\n",
        "            stride=doc_stride):\n",
        "        for key, val in span.items():\n",
        "            span[key] = torch.Tensor([val]).type(torch.long)\n",
        "        output = model(**span)\n",
        "        start_logits = output.start_logits[0].cpu().detach().numpy()\n",
        "        end_logits = output.end_logits[0].cpu().detach().numpy()\n",
        "        start_indexes = np.argsort(start_logits)[-1:-n_best_size -\n",
        "                                                 1:-1].tolist()\n",
        "        end_indexes = np.argsort(end_logits)[-1:-n_best_size - 1:-1].tolist()\n",
        "        cur_offsets = offsets[i:]\n",
        "        i += doc_stride\n",
        "        for start_index in start_indexes:\n",
        "            for end_index in end_indexes:\n",
        "                if 0 < start_index <= end_index < len(cur_offsets):\n",
        "                    # We need to refine that test to check the answer is inside\n",
        "                    # the context\n",
        "                    valid_answers.append({\n",
        "                        'score':\n",
        "                            start_logits[start_index] + end_logits[end_index],\n",
        "                        'position': (start_index, end_index),\n",
        "                        'text':\n",
        "                            context[cur_offsets[start_index][0]:\n",
        "                                    cur_offsets[end_index - 1][1] + 1],\n",
        "                    })\n",
        "    if not valid_answers:\n",
        "        return [{\n",
        "            'score': -float('inf'),\n",
        "            'position': (-1, -1),\n",
        "            'text': '',\n",
        "        }]\n",
        "    valid_answers.sort(key=lambda x: x['score'], reverse=True)\n",
        "    return valid_answers[:n_best_size]"
      ]
    },
    {
      "cell_type": "code",
      "execution_count": null,
      "metadata": {
        "id": "0k1DIdDYg5_N"
      },
      "outputs": [],
      "source": [
        "import collections\n",
        "\n",
        "def compute_f1_score(ground_truth_values: List[str],\n",
        "                     prediction_values: List[str]) -> float:\n",
        "    '''Compute f1 score comparing two list of values.'''\n",
        "    common = (\n",
        "        collections.Counter(prediction_values) &\n",
        "        collections.Counter(ground_truth_values))\n",
        "    num_same = sum(common.values())\n",
        "\n",
        "    # No answer case.\n",
        "    if not ground_truth_values or not prediction_values:\n",
        "        return int(ground_truth_values == prediction_values)\n",
        "\n",
        "    if num_same == 0:\n",
        "        return 0.\n",
        "\n",
        "    precision = 1.0 * num_same / len(prediction_values)\n",
        "    recall = 1.0 * num_same / len(ground_truth_values)\n",
        "    f1_score = (2 * precision * recall) / (precision + recall)\n",
        "    return f1_score\n",
        "\n",
        "\n",
        "def char_f1_score(prediction: str, ground_truth: str) -> float:\n",
        "    '''Character F1 score.'''\n",
        "    prediction_tokens = prediction.split()\n",
        "    ground_truth_tokens = ground_truth.split()\n",
        "\n",
        "    # F1 by character\n",
        "    prediction_char = []\n",
        "    for tok in prediction_tokens:\n",
        "        prediction_char.extend(list(tok))\n",
        "\n",
        "    ground_truth_char = []\n",
        "    for tok in ground_truth_tokens:\n",
        "        ground_truth_char.extend(list(tok))\n",
        "    return compute_f1_score(ground_truth_char, prediction_char)"
      ]
    },
    {
      "cell_type": "code",
      "execution_count": null,
      "metadata": {
        "id": "uKGSIdi0skje"
      },
      "outputs": [],
      "source": [
        "jaquad_dataset = datasets.load_dataset(\n",
        "    args['dataset'], use_auth_token=args['huggingface_auth_token']).flatten()\n",
        "jaquad_dataset = jaquad_dataset.rename_column('answers.text', 'answer')\n",
        "\n",
        "infer_data = jaquad_dataset['validation'][:]\n",
        "\n",
        "cnt = len(infer_data['question'])\n",
        "print(f'Eval {cnt} data')\n",
        "\n",
        "f1_scores = []\n",
        "em = []\n",
        "for i, (context, question, answer) in enumerate(\n",
        "        zip(infer_data['context'], infer_data['question'],\n",
        "            infer_data['answer'])):\n",
        "    answer = answer[0]\n",
        "    predictions = get_answers(model, context=context, question=question)\n",
        "    pred_text = predictions[0]['text']\n",
        "    f1 = char_f1_score(pred_text, answer)\n",
        "    f1_scores.append(f1)\n",
        "    em.append(f1 == 1.)\n",
        "    if i % 200 == 0:\n",
        "        print(f'  {i+1}/{cnt} | EM: {sum(em) / (i+1):.4f}, '\\\n",
        "              + f'F1: {sum(f1_scores) / (i+1):.4f}')\n",
        "        print(f'        (Sample) pred: \"{pred_text}\", answer: \"{answer}\"')\n",
        "print(f'F1 score: {sum(f1_scores) / cnt}')\n",
        "print(f'Exact Match: {sum(em) / cnt}')\n"
      ]
    },
    {
      "cell_type": "markdown",
      "metadata": {
        "id": "khT4Jiln92Tb"
      },
      "source": [
        "## Analysis\n",
        "\n",
        "Following cells generate graphs used in the paper \"JaQuAD: Japanese Question Answering Dataset for Machine Reading Comprehension\""
      ]
    },
    {
      "cell_type": "code",
      "execution_count": null,
      "metadata": {
        "id": "pzzMnITpcAfO"
      },
      "outputs": [],
      "source": [
        "import matplotlib.pyplot as plt\n",
        "import numpy as np\n",
        "import pandas as pd\n",
        "\n",
        "import datasets\n",
        "from transformers import AutoTokenizer\n",
        "\n",
        "\n",
        "jaquad = datasets.load_dataset(\n",
        "    args['dataset'],\n",
        "    use_auth_token=args['huggingface_auth_token']).flatten()\n",
        "\n",
        "tokenizer = model.tokenizer"
      ]
    },
    {
      "cell_type": "markdown",
      "metadata": {
        "id": "tdkqrdc694OI"
      },
      "source": [
        "### Context/Answer lengths"
      ]
    },
    {
      "cell_type": "code",
      "execution_count": null,
      "metadata": {
        "colab": {
          "base_uri": "https://localhost:8080/"
        },
        "id": "ubY_ftnV916m",
        "outputId": "57efdc26-c7ee-43cc-99b5-ea1e5c6c21e7"
      },
      "outputs": [],
      "source": [
        "context_lengths = []\n",
        "question_lengths = []\n",
        "answer_lengths = []\n",
        "\n",
        "for dset in jaquad.values():\n",
        "    for batch in dset:\n",
        "        context_tokens = tokenizer(batch['context'])['input_ids']\n",
        "        context_lengths.append(len(context_tokens) - 2)\n",
        "        question_tokens = tokenizer(batch['question'])['input_ids']\n",
        "        question_lengths.append(len(question_tokens) - 2)\n",
        "        answer_tokens = tokenizer(batch['answers.text'][0])['input_ids']\n",
        "        answer_lengths.append(len(answer_tokens) - 2)"
      ]
    },
    {
      "cell_type": "code",
      "execution_count": null,
      "metadata": {
        "colab": {
          "base_uri": "https://localhost:8080/",
          "height": 265
        },
        "id": "15dPWXpLgM00",
        "outputId": "86dbbb3c-3d13-4740-b89f-cbf137cfc9c5"
      },
      "outputs": [
        {
          "data": {
            "image/png": "[encoded data removed]",
            "text/plain": [
              "<Figure size 432x288 with 1 Axes>"
            ]
          },
          "metadata": {
            "needs_background": "light"
          },
          "output_type": "display_data"
        }
      ],
      "source": [
        "### Context lengths\n",
        "\n",
        "bin_size = 100\n",
        "bins = range(1, max(context_lengths) + bin_size, bin_size)\n",
        "plt.hist(context_lengths,\n",
        "         bins,\n",
        "         density=False,\n",
        "         facecolor='g',\n",
        "         alpha=0.5)\n",
        "plt.show()"
      ]
    },
    {
      "cell_type": "code",
      "execution_count": null,
      "metadata": {
        "id": "MpvnzjoIx1lt"
      },
      "outputs": [],
      "source": [
        "bins = range(0, max(context_lengths) + bin_size, bin_size)\n",
        "df = pd.DataFrame({'context_lengths': context_lengths})\n",
        "df['bin'] = pd.cut(df.context_lengths, bins)\n",
        "df.bin.value_counts().sort_index()"
      ]
    },
    {
      "cell_type": "code",
      "execution_count": null,
      "metadata": {
        "colab": {
          "base_uri": "https://localhost:8080/",
          "height": 265
        },
        "id": "YP-rRk6FmrGo",
        "outputId": "f4ed8639-e07c-4adc-d5ce-96c959947611"
      },
      "outputs": [
        {
          "data": {
            "image/png": "[encoded data removed]",
            "text/plain": [
              "<Figure size 432x288 with 1 Axes>"
            ]
          },
          "metadata": {
            "needs_background": "light"
          },
          "output_type": "display_data"
        }
      ],
      "source": [
        "### Question lengths\n",
        "\n",
        "bin_size = 10\n",
        "bins = range(1, max(question_lengths) + bin_size, bin_size)\n",
        "plt.hist(question_lengths,\n",
        "        bins,\n",
        "        density=False,\n",
        "        facecolor='r',\n",
        "        alpha=0.5)\n",
        "plt.show()"
      ]
    },
    {
      "cell_type": "code",
      "execution_count": null,
      "metadata": {
        "id": "KTgMc7xXbC04"
      },
      "outputs": [],
      "source": [
        "bins = range(0, max(question_lengths) + bin_size, bin_size)\n",
        "df = pd.DataFrame({'question_lengths': question_lengths})\n",
        "df['bin'] = pd.cut(df.question_lengths, bins)\n",
        "df.bin.value_counts().sort_index()"
      ]
    },
    {
      "cell_type": "code",
      "execution_count": null,
      "metadata": {
        "colab": {
          "base_uri": "https://localhost:8080/",
          "height": 265
        },
        "id": "EQl_S6-VEtDX",
        "outputId": "598e87d1-c17c-4358-d68b-c984da1d0d2c"
      },
      "outputs": [
        {
          "data": {
            "image/png": "[encoded data removed]",
            "text/plain": [
              "<Figure size 432x288 with 1 Axes>"
            ]
          },
          "metadata": {
            "needs_background": "light"
          },
          "output_type": "display_data"
        }
      ],
      "source": [
        "### Answer lengths\n",
        "\n",
        "bin_size = 2\n",
        "bins = range(1, max(answer_lengths) + bin_size, bin_size)\n",
        "plt.hist([a for a in answer_lengths if a <= 20],\n",
        "         bins[:10],\n",
        "         density=False,\n",
        "         facecolor='b',\n",
        "         alpha=0.5)\n",
        "plt.xticks(bins[:10])\n",
        "plt.show()"
      ]
    },
    {
      "cell_type": "code",
      "execution_count": null,
      "metadata": {
        "id": "psu7iHwf0N38"
      },
      "outputs": [],
      "source": [
        "bins = range(0, max(answer_lengths) + bin_size, bin_size)\n",
        "\n",
        "df = pd.DataFrame({'answer_lengths': answer_lengths})\n",
        "df['bin'] = pd.cut(df.answer_lengths, bins)\n",
        "df.bin.value_counts()"
      ]
    },
    {
      "cell_type": "markdown",
      "metadata": {
        "id": "jcOaM1HQHo4e"
      },
      "source": [
        "### Performance by question/answer types and answer_lengths"
      ]
    },
    {
      "cell_type": "code",
      "execution_count": null,
      "metadata": {
        "id": "Lp9TACgPMYZG"
      },
      "outputs": [],
      "source": [
        "dev_answer_lengths = []\n",
        "for datum in jaquad['validation']:\n",
        "    answer = tokenizer(datum['answers.text'])['input_ids']\n",
        "    dev_answer_lengths.append(len(answer) - 2)"
      ]
    },
    {
      "cell_type": "code",
      "execution_count": null,
      "metadata": {
        "id": "LczWxMSnH02f"
      },
      "outputs": [],
      "source": [
        "df = pd.DataFrame({\n",
        "    'question_type': jaquad['validation']['question_type'],\n",
        "    'answer_type': [typ[0] for typ in jaquad['validation']['answers.answer_type']],\n",
        "    'answer_len': dev_answer_lengths,\n",
        "    'f1': f1_scores,\n",
        "    'em': em,\n",
        "})"
      ]
    },
    {
      "cell_type": "code",
      "execution_count": null,
      "metadata": {
        "id": "HsJ2gKRoH6Bq"
      },
      "outputs": [],
      "source": [
        "df[['question_type', 'f1', 'em']].groupby(by='question_type').mean()"
      ]
    },
    {
      "cell_type": "code",
      "execution_count": null,
      "metadata": {
        "id": "5_nM9S4TLt3K"
      },
      "outputs": [],
      "source": [
        "df[['answer_type', 'f1', 'em']].groupby(by='answer_type').mean()"
      ]
    },
    {
      "cell_type": "code",
      "execution_count": null,
      "metadata": {
        "id": "ZxlfAcEGH8eq"
      },
      "outputs": [],
      "source": [
        "bins = 2\n",
        "\n",
        "df['answer_len_bin'] = (df['answer_len']-1) // bins * bins\n",
        "df['answer_len_bin'][df.answer_len_bin >= 8] = 8\n",
        "df['answer_len_bin'] = df['answer_len_bin'].apply(lambda x: f'{x+1:02d}-{x+bins:02d}')\n",
        "df[['answer_len_bin', 'f1', 'em']].groupby(by='answer_len_bin').mean()"
      ]
    }
  ],
  "metadata": {
    "accelerator": "TPU",
    "colab": {
      "collapsed_sections": [],
      "machine_shape": "hm",
      "name": "JaQuAD.ipynb",
      "provenance": []
    },
    "kernelspec": {
      "display_name": "Python 3",
      "name": "python3"
    },
    "language_info": {
      "codemirror_mode": {
        "name": "ipython",
        "version": 3
      },
      "file_extension": ".py",
      "mimetype": "text/x-python",
      "name": "python",
      "nbconvert_exporter": "python",
      "pygments_lexer": "ipython3",
      "version": "3.7.9"
    }
  },
  "nbformat": 4,
  "nbformat_minor": 0
}
